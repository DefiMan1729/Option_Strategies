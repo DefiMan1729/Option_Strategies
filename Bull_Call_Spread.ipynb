{
 "cells": [
  {
   "cell_type": "markdown",
   "metadata": {},
   "source": [
    "# Bull Call Spread"
   ]
  },
  {
   "cell_type": "markdown",
   "metadata": {},
   "source": [
    "#### Construction of a Bull Call Spread\n",
    "**Purchase** a **call** option at a **lower** strike price.\n",
    "**Sell** a **call** option at a **higher** strike price.\n",
    "Both Options should ideally have the same expiration date and should be written on the same underlying"
   ]
  },
  {
   "cell_type": "markdown",
   "metadata": {},
   "source": [
    "#### Define a Call Option class in Python"
   ]
  },
  {
   "cell_type": "code",
   "execution_count": 2,
   "metadata": {},
   "outputs": [],
   "source": [
    "class CallOption:\n",
    "    def __init__(self, strike: float, premium: float):\n",
    "        \"\"\"\n",
    "        Initialize a CallOption instance.\n",
    "\n",
    "        :param strike: The strike price of the call option.\n",
    "        :param premium: The premium paid for the call option.\n",
    "        \"\"\"\n",
    "        self.strike = strike\n",
    "        self.premium = premium\n",
    "        self.delta = None\n",
    "        self.gamma = None\n",
    "        self.theta = None\n",
    "        self.vega = None\n",
    "\n",
    "    def set_greeks(self, delta: float = None, gamma: float = None, theta: float = None, vega: float = None):\n",
    "        \"\"\"\n",
    "        Set the Greek values for the call option.\n",
    "\n",
    "        :param delta: The delta value.\n",
    "        :param gamma: The gamma value.\n",
    "        :param theta: The theta value.\n",
    "        :param vega: The vega value.\n",
    "        \"\"\"\n",
    "        if delta is not None:\n",
    "            self.delta = delta\n",
    "        if gamma is not None:\n",
    "            self.gamma = gamma\n",
    "        if theta is not None:\n",
    "            self.theta = theta\n",
    "        if vega is not None:\n",
    "            self.vega = vega\n",
    "\n",
    "    def get_max_profit(self) -> str:\n",
    "        \"\"\"\n",
    "        Calculate the maximum profit for the call option.\n",
    "\n",
    "        :return: The maximum profit, which is theoretically infinite.\n",
    "        \"\"\"\n",
    "        return \"Infinite\"\n",
    "\n",
    "    def get_max_loss(self) -> float:\n",
    "        \"\"\"\n",
    "        Calculate the maximum loss for the call option.\n",
    "\n",
    "        :return: The maximum loss, which is the premium paid.\n",
    "        \"\"\"\n",
    "        return self.premium\n",
    "\n",
    "    def get_breakeven(self) -> float:\n",
    "        \"\"\"\n",
    "        Calculate the breakeven point for the call option.\n",
    "\n",
    "        :return: The breakeven point, which is the strike price plus the premium paid.\n",
    "        \"\"\"\n",
    "        return self.strike + self.premium\n",
    "\n"
   ]
  },
  {
   "cell_type": "markdown",
   "metadata": {},
   "source": [
    "##### Intantiate a two call options- one with the higher strike (likely lower premium) and the other with lower strike (likely higher premium)"
   ]
  },
  {
   "cell_type": "code",
   "execution_count": 3,
   "metadata": {},
   "outputs": [
    {
     "name": "stdout",
     "output_type": "stream",
     "text": [
      "High Strike Call Option: Strike = 115, Premium = 5\n",
      "Low Strike Call Option: Strike = 100, Premium = 7\n"
     ]
    }
   ],
   "source": [
    "# Define the strike prices and premiums for the call options\n",
    "strike_high = 115\n",
    "premium_high = 5\n",
    "\n",
    "strike_low = 100\n",
    "premium_low = 7\n",
    "\n",
    "# Instantiate the call options\n",
    "call_option_high = CallOption(strike=strike_high, premium=premium_high)\n",
    "call_option_low = CallOption(strike=strike_low, premium=premium_low)\n",
    "\n",
    "# Display the details of the call options\n",
    "print(f\"High Strike Call Option: Strike = {call_option_high.strike}, Premium = {call_option_high.premium}\")\n",
    "print(f\"Low Strike Call Option: Strike = {call_option_low.strike}, Premium = {call_option_low.premium}\")\n"
   ]
  },
  {
   "cell_type": "markdown",
   "metadata": {},
   "source": [
    "##### Determine the Maximum profit, Maximum loss and the Breakeven point"
   ]
  },
  {
   "cell_type": "code",
   "execution_count": 5,
   "metadata": {},
   "outputs": [
    {
     "name": "stdout",
     "output_type": "stream",
     "text": [
      "The maximum profit for this bull call spread strategy is 13\n",
      "The maximum loss for this bull call option strategy is 2\n",
      "The breakeven point for this bull call option strategy is 102\n"
     ]
    }
   ],
   "source": [
    "max_profit_bullcall = call_option_high.strike-call_option_low.strike-(call_option_low.premium-call_option_high.premium)\n",
    "print (f\"The maximum profit for this bull call spread strategy is {max_profit_bullcall}\")\n",
    "max_loss_bullcall = (call_option_low.premium-call_option_high.premium)\n",
    "print (f\"The maximum loss for this bull call option strategy is {max_loss_bullcall}\")\n",
    "breakeven_point = call_option_low.strike+(call_option_low.premium-call_option_high.premium)\n",
    "print (f\"The breakeven point for this bull call option strategy is {breakeven_point}\")"
   ]
  },
  {
   "cell_type": "markdown",
   "metadata": {},
   "source": [
    "Determine the Maximum profit, Maximum loss and the Breakeven point using a function"
   ]
  },
  {
   "cell_type": "code",
   "execution_count": 8,
   "metadata": {},
   "outputs": [],
   "source": [
    "def calculate_metrics_bull_call(call_option_high, call_option_low):\n",
    "    \"\"\"\n",
    "    Calculate the maximum profit for a bull call spread strategy.\n",
    "\n",
    "    :param call_option_high: The call option with the higher strike price.\n",
    "    :param call_option_low: The call option with the lower strike price.\n",
    "    :return: The maximum profit from the bull call spread strategy.\n",
    "    \"\"\"\n",
    "    max_profit = call_option_high.strike - call_option_low.strike - (call_option_low.premium - call_option_high.premium)\n",
    "    max_loss = call_option_low.premium-call_option_high.premium\n",
    "    breakeven = call_option_low.strike+(call_option_low.premium-call_option_high.premium)\n",
    "    return max_profit, max_loss, breakeven"
   ]
  },
  {
   "cell_type": "code",
   "execution_count": 10,
   "metadata": {},
   "outputs": [
    {
     "data": {
      "text/plain": [
       "(13, 2, 102)"
      ]
     },
     "execution_count": 10,
     "metadata": {},
     "output_type": "execute_result"
    }
   ],
   "source": [
    "calculate_metrics_bull_call(call_option_high, call_option_low)"
   ]
  },
  {
   "cell_type": "markdown",
   "metadata": {},
   "source": [
    "#### Analysing the Bull call spread using OpenAI (GPT4o)"
   ]
  },
  {
   "cell_type": "code",
   "execution_count": 22,
   "metadata": {},
   "outputs": [],
   "source": [
    "from openai import OpenAI\n",
    "# api_key = os.environ.get(\"OPENAI_API_KEY\")\n",
    "client = OpenAI(api_key='<Pasting the API key here is a Novice mistake. Use environment variables instead>')\n"
   ]
  },
  {
   "cell_type": "code",
   "execution_count": 15,
   "metadata": {},
   "outputs": [],
   "source": [
    "from textwrap import dedent\n",
    "financial_wizard_prompt = '''\n",
    "    You are a super smart financial analyst who has passed CFA. You will be provided with financial derivative problems,\n",
    "    and your goal will be to output a step by step solution, along with a final answer.\n",
    "    For each step, just provide the output as an equation use the explanation field to detail the reasoning.\n",
    "'''\n",
    "MODEL = \"gpt-4o-2024-08-06\"\n",
    "def get_financial_derivative_solution(question):\n",
    "    response = client.chat.completions.create(\n",
    "    model=MODEL,\n",
    "    messages=[\n",
    "        {\n",
    "            \"role\": \"system\", \n",
    "            \"content\": dedent(financial_wizard_prompt)\n",
    "        },\n",
    "        {\n",
    "            \"role\": \"user\", \n",
    "            \"content\": question\n",
    "        }\n",
    "    ],\n",
    "    response_format={\n",
    "        \"type\": \"json_schema\",\n",
    "        \"json_schema\": {\n",
    "            \"name\": \"CFA_reasoning\",\n",
    "            \"schema\": {\n",
    "                \"type\": \"object\",\n",
    "                \"properties\": {\n",
    "                    \"steps\": {\n",
    "                        \"type\": \"array\",\n",
    "                        \"items\": {\n",
    "                            \"type\": \"object\",\n",
    "                            \"properties\": {\n",
    "                                \"explanation\": {\"type\": \"string\"},\n",
    "                                \"output\": {\"type\": \"string\"}\n",
    "                            },\n",
    "                            \"required\": [\"explanation\", \"output\"],\n",
    "                            \"additionalProperties\": False\n",
    "                        }\n",
    "                    },\n",
    "                    \"final_answer\": {\"type\": \"string\"}\n",
    "                },\n",
    "                \"required\": [\"steps\", \"final_answer\"],\n",
    "                \"additionalProperties\": False\n",
    "            },\n",
    "            \"strict\": True\n",
    "        }\n",
    "    }\n",
    "    )\n",
    "\n",
    "    return response.choices[0].message"
   ]
  },
  {
   "cell_type": "code",
   "execution_count": 19,
   "metadata": {},
   "outputs": [
    {
     "name": "stdout",
     "output_type": "stream",
     "text": [
      "{\"steps\":[{\"explanation\":\"The first step is to identify the cost of entering the bull call spread. This involves buying a call option with a lower strike price and selling a call option with a higher strike price. We purchase the call option with a strike price of 100 at a premium of 7, and sell the call option with a strike price of 115 at a premium of 5.\",\"output\":\"Net Premium Paid = Premium(buy) - Premium(sell) = 7 - 5 = 2\"},{\"explanation\":\"To calculate the maximum profit for a bull call spread, we need to calculate the difference between the strike prices and subtract the net premium paid. The strike price difference is 115 - 100, and the premium paid is 2.\",\"output\":\"Maximum Profit = (Strike Price (Call Sold) - Strike Price (Call Bought)) - Net Premium Paid = (115 - 100) - 2 = 13\"},{\"explanation\":\"The maximum loss in a bull call spread is limited to the net premium paid. Here, it is the 2 premium paid per share for setting up the spread.\",\"output\":\"Maximum Loss = Net Premium Paid = 2\"},{\"explanation\":\"To find the breakeven point, we add the net premium paid to the lower strike price (of the call bought). This is because the strategy becomes profitable when the underlying moves beyond this combined value, covering the premium cost.\",\"output\":\"Breakeven Point = Strike Price (Call Bought) + Net Premium Paid = 100 + 2 = 102\"}],\"final_answer\":\"Maximum Profit: 13, Maximum Loss: 2, Breakeven Point: 102\"}\n"
     ]
    }
   ],
   "source": [
    "# Testing with an example question\n",
    "\n",
    "# question = \"The strike price of two call options are 115 and 100, the premiums are 5 and 7. What is the maximum profit, maximum loss and breakeven for Bull call spread\"\n",
    "question = f'''\n",
    "the strike prices of the two call options of a bull call spread are {call_option_high.strike} and {call_option_low.strike}\n",
    "The premiums for the corresponding call options are {call_option_high.premium} and {call_option_low.premium}\n",
    "What is the maximum profit, maximum loss and breakeven for Bull call spread\n",
    "'''\n",
    "result = get_financial_derivative_solution(question) \n",
    "\n",
    "print(result.content)"
   ]
  },
  {
   "cell_type": "code",
   "execution_count": 20,
   "metadata": {},
   "outputs": [
    {
     "name": "stdout",
     "output_type": "stream",
     "text": [
      "Maximum Profit: 13, Maximum Loss: 2, Breakeven Point: 102\n"
     ]
    }
   ],
   "source": [
    "import re\n",
    "# Regular expression to extract the final_answer\n",
    "match = re.search(r'\"final_answer\":\"(.*?)\"', result.content)\n",
    "\n",
    "if match:\n",
    "    final_answer = match.group(1)\n",
    "    print(final_answer)\n",
    "else:\n",
    "    print(\"No final_answer found.\")"
   ]
  },
  {
   "cell_type": "markdown",
   "metadata": {},
   "source": [
    "#### Conclusion\n",
    "OpenAI's GPT4o gets the correct answers most of the time. The chain of reasoning is almost always correct, but it can sometimes get the arithmetic wrong"
   ]
  }
 ],
 "metadata": {
  "kernelspec": {
   "display_name": "Python 3",
   "language": "python",
   "name": "python3"
  },
  "language_info": {
   "codemirror_mode": {
    "name": "ipython",
    "version": 3
   },
   "file_extension": ".py",
   "mimetype": "text/x-python",
   "name": "python",
   "nbconvert_exporter": "python",
   "pygments_lexer": "ipython3",
   "version": "3.12.1"
  }
 },
 "nbformat": 4,
 "nbformat_minor": 2
}
